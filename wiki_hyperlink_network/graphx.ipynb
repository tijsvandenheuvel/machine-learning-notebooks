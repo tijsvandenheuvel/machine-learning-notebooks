{
 "metadata": {
  "language_info": {
   "codemirror_mode": {
    "name": "ipython",
    "version": 3
   },
   "file_extension": ".py",
   "mimetype": "text/x-python",
   "name": "python",
   "nbconvert_exporter": "python",
   "pygments_lexer": "ipython3",
   "version": "3.8.1-final"
  },
  "orig_nbformat": 2,
  "kernelspec": {
   "name": "python38164bitabc5b7579e224b81b68734045ff1f334",
   "display_name": "Python 3.8.1 64-bit"
  }
 },
 "nbformat": 4,
 "nbformat_minor": 2,
 "cells": [
  {
   "cell_type": "code",
   "execution_count": 30,
   "metadata": {},
   "outputs": [],
   "source": [
    "import pyspark.sql.functions as f"
   ]
  },
  {
   "cell_type": "code",
   "execution_count": 1,
   "metadata": {},
   "outputs": [],
   "source": [
    "from pyspark import SparkContext\n",
    "from pyspark.sql import SQLContext\n",
    "from pyspark.sql import SparkSession\n",
    "from graphframes import *\n",
    "\n",
    "#ss = SparkSession.builder.getOrCreate()\n",
    "sc = SparkContext.getOrCreate()\n",
    "sqlc  = SQLContext(sc)\n",
    "\n"
   ]
  },
  {
   "cell_type": "code",
   "execution_count": 2,
   "metadata": {},
   "outputs": [],
   "source": [
    "edges = sc.textFile(\"../data/wiki-topcats-reduced.txt\")\n",
    "vertices = sc.textFile(\"../data/wiki-topcats-page-names.txt\")"
   ]
  },
  {
   "cell_type": "code",
   "execution_count": 3,
   "metadata": {},
   "outputs": [],
   "source": [
    "edges2 = edges.map(lambda x: x.split('\\t'))#.map(lambda x:(int(x[0]),int(x[1])))\n",
    "vertices2 = vertices.map(lambda x: x.split(' ')).map(lambda x: (x[0],' '.join(x[1:])))"
   ]
  },
  {
   "cell_type": "code",
   "execution_count": 15,
   "metadata": {},
   "outputs": [],
   "source": [
    "e = sqlc.createDataFrame(edges2,[\"src\",\"dst\"])\n",
    "v = sqlc.createDataFrame(vertices2,[\"id\",\"value\"])"
   ]
  },
  {
   "cell_type": "code",
   "execution_count": 16,
   "metadata": {},
   "outputs": [],
   "source": [
    "g = GraphFrame(v,e)"
   ]
  },
  {
   "source": [
    "amount of incoming edges per vertex"
   ],
   "cell_type": "markdown",
   "metadata": {}
  },
  {
   "cell_type": "code",
   "execution_count": 19,
   "metadata": {},
   "outputs": [
    {
     "output_type": "stream",
     "name": "stdout",
     "text": [
      "+-------+--------+\n|     id|inDegree|\n+-------+--------+\n|1163286|      62|\n|1188057|       6|\n| 543241|     648|\n|1061031|      55|\n|1226552|     150|\n| 271864|     201|\n| 501968|       4|\n| 697830|       1|\n| 430074|      22|\n| 167365|       2|\n|1064995|      14|\n|1036260|      16|\n|  13282|       1|\n|1062113|      65|\n|1261990|       3|\n|1400647|      47|\n|  18314|      56|\n|1059049|      21|\n|1404343|      13|\n|  26082|       2|\n+-------+--------+\nonly showing top 20 rows\n\n"
     ]
    }
   ],
   "source": [
    "g.inDegrees.show()"
   ]
  },
  {
   "source": [
    "amount of outgoing edges per vertex"
   ],
   "cell_type": "markdown",
   "metadata": {}
  },
  {
   "cell_type": "code",
   "execution_count": 20,
   "metadata": {},
   "outputs": [
    {
     "output_type": "stream",
     "name": "stdout",
     "text": [
      "+-----+---------+\n|   id|outDegree|\n+-----+---------+\n| 1512|        2|\n|13282|        2|\n|18314|       22|\n|18947|        1|\n|18992|        2|\n|19095|        4|\n|19132|        2|\n|23843|        6|\n|25555|        1|\n|26082|        2|\n|27108|        1|\n|27248|        2|\n|27264|        1|\n|27317|        6|\n|27884|        1|\n|27990|        2|\n|37311|        3|\n|39645|        1|\n|41105|        1|\n|41785|        1|\n+-----+---------+\nonly showing top 20 rows\n\n"
     ]
    }
   ],
   "source": [
    "g.outDegrees.show()"
   ]
  },
  {
   "source": [
    "### id's with most outgoing links"
   ],
   "cell_type": "markdown",
   "metadata": {}
  },
  {
   "cell_type": "code",
   "execution_count": 60,
   "metadata": {},
   "outputs": [
    {
     "output_type": "stream",
     "name": "stdout",
     "text": [
      "+-------+---------+\n|     id|outDegree|\n+-------+---------+\n|1061816|     1983|\n|  82743|     1792|\n|1062251|     1782|\n|1062319|     1370|\n| 946927|     1337|\n|1061912|     1328|\n|1060883|      932|\n|1061304|      907|\n| 827296|      906|\n|1061262|      891|\n| 715041|      879|\n|1061636|      769|\n|  83510|      757|\n| 824169|      691|\n|1061640|      685|\n|1061314|      650|\n| 668316|      627|\n|1179434|      565|\n|1062028|      540|\n| 872898|      494|\n+-------+---------+\nonly showing top 20 rows\n\n"
     ]
    }
   ],
   "source": [
    "g.outDegrees.orderBy(\"outDegree\",ascending=False).show()\n",
    "\n"
   ]
  },
  {
   "cell_type": "code",
   "execution_count": 59,
   "metadata": {},
   "outputs": [
    {
     "output_type": "stream",
     "name": "stdout",
     "text": [
      "+-------+------------+\n|     id|       value|\n+-------+------------+\n|1061816|2009 in film|\n+-------+------------+\n\n"
     ]
    }
   ],
   "source": [
    "g.vertices.filter(\"id=1061816\").show()"
   ]
  },
  {
   "source": [
    "### id's with most icoming links"
   ],
   "cell_type": "markdown",
   "metadata": {}
  },
  {
   "cell_type": "code",
   "execution_count": 61,
   "metadata": {},
   "outputs": [
    {
     "output_type": "stream",
     "name": "stdout",
     "text": [
      "+-------+--------+\n|     id|inDegree|\n+-------+--------+\n| 279122|   83586|\n| 896828|   17056|\n| 362517|   14378|\n| 785921|   11111|\n| 870589|   10834|\n|1174967|   10710|\n|1457593|   10032|\n|1184538|    5918|\n| 488567|    5753|\n|  81952|    4944|\n| 459249|    4575|\n| 187620|    4269|\n|1061904|    4109|\n|1163290|    3760|\n|1400548|    3559|\n|1394526|    3475|\n|1108161|    3372|\n|1609252|    3314|\n|1400638|    3265|\n|1108125|    3216|\n+-------+--------+\nonly showing top 20 rows\n\n"
     ]
    }
   ],
   "source": [
    "g.inDegrees.orderBy(\"inDegree\",ascending=False).show()"
   ]
  },
  {
   "cell_type": "code",
   "execution_count": 63,
   "metadata": {},
   "outputs": [
    {
     "output_type": "stream",
     "name": "stdout",
     "text": [
      "+------+-------+\n|    id|  value|\n+------+-------+\n|896828|Germany|\n+------+-------+\n\n"
     ]
    }
   ],
   "source": [
    "g.vertices.filter(\"id=279122\").show()"
   ]
  },
  {
   "cell_type": "code",
   "execution_count": null,
   "metadata": {},
   "outputs": [],
   "source": []
  }
 ]
}